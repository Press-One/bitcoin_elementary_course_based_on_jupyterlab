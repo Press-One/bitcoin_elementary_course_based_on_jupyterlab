{
 "cells": [
  {
   "cell_type": "markdown",
   "metadata": {},
   "source": [
    "# 0 序言"
   ]
  },
  {
   "cell_type": "markdown",
   "metadata": {},
   "source": [
    "## 本书适合人群\n",
    "\n",
    "- 比特币长期投资者\n",
    "\n",
    "  拿住比特币的关键，其实在于对比特币的理解是 90%，还是 99%，还是 99.99%……任何一个投资者，都有必要去从技术上了解比特币。\n",
    "- 编程入门者\n",
    "\n",
    "  可能你已经入门了 Python。那么把这本教程当成你的第一个「进阶项目」吧！你能体会到编程作为「思考辅助工具」的巨大威力。\n",
    "- 想要了解区块链的开发者\n",
    "\n",
    "  你是一名开发者，最近听说了区块链。那么来看这本教程吧！你将体验「闪电入门」的快感。"
   ]
  },
  {
   "cell_type": "markdown",
   "metadata": {},
   "source": [
    "## 为什么要以比特币为框架入门区块链？\n",
    "\n",
    "- 共识系统是区块链的基础\n",
    "- 所有的共识系统，都是解决同一个问题 —— **如何长期稳定的运行一个历史数据不可篡改的数据库**\n",
    "- 比特币是迄今为止为止最成功的区块链项目\n",
    "- 比特币的核心足够简洁，符合「奥卡姆剃刀原则」\n",
    "- 比特币的文档 / Wiki 很丰富\n",
    "- 比特币有 [Python](https://github.com/petertodd/python-bitcoinlib) 版本的实现，而 Python 版本的源码比较好读"
   ]
  },
  {
   "cell_type": "markdown",
   "metadata": {},
   "source": [
    "## 本书涉及的内容\n",
    "\n",
    "数学、密码学、信息学、分布式系统、Python 编程等。"
   ]
  },
  {
   "cell_type": "markdown",
   "metadata": {},
   "source": [
    "## 本书特性\n",
    "\n",
    "- **交互性：** 本书用 Ipynb 作为载体，包含大量交互式内容。\n",
    "- **多层次性：** 本书面向多层次的读者。可以作为非计算机工作者了解比特币的入门读物，也可以作为进入区块链行业的计算机工作者的101教程。\n",
    "- **可扩展性：** 每一个部分都可以不断扩展，最终形成一棵以比特币原理为根部的「区块链教程之树🌲」。"
   ]
  },
  {
   "cell_type": "markdown",
   "metadata": {},
   "source": [
    "## 参考资料\n",
    "\n",
    "- 英文版比特币白皮书：https://bitcoin.org/bitcoin.pdf\n",
    "- 至今为止最好的翻译 by 李笑来：https://github.com/xiaolai/bitcoin-whitepaper-chinese-translation/blob/master/Bitcoin-Whitepaper-EN-CN.md\n",
    "- ECDSA 密码学库: https://github.com/warner/python-ecdsa\n",
    "- 精通比特币：http://v1.8btc.com/books/261/master_bitcoin/_book/"
   ]
  }
 ],
 "metadata": {
  "kernelspec": {
   "display_name": "Python 3",
   "language": "python",
   "name": "python3"
  },
  "language_info": {
   "codemirror_mode": {
    "name": "ipython",
    "version": 3
   },
   "file_extension": ".py",
   "mimetype": "text/x-python",
   "name": "python",
   "nbconvert_exporter": "python",
   "pygments_lexer": "ipython3",
   "version": "3.7.4"
  }
 },
 "nbformat": 4,
 "nbformat_minor": 2
}
