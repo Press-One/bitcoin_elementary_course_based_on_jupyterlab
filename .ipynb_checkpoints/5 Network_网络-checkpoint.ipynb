{
 "cells": [
  {
   "cell_type": "markdown",
   "metadata": {},
   "source": [
    "# 5 网络 (Network)\n",
    "\n",
    "## 前言\n",
    "\n",
    "在 Transactions、Timestamp Server、Proof-of-Work 这三节的基础上，Network 这一节简明地阐述了区块链网络的运行机理。\n",
    "\n",
    "![比特币最小必要理解框架](pics/比特币最小必要理解框架.svg)\n",
    "\n",
    "可以说，看懂这四节，就算是「入门」比特币了。"
   ]
  },
  {
   "cell_type": "markdown",
   "metadata": {},
   "source": [
    "## 原文与翻译\n",
    "\n",
    "The steps to run the network are as follows:\n",
    "\n",
    "> 1. New transactions are broadcast to all nodes.\n",
    "> 2. Each node collects new transactions into a block.\n",
    "> 3. Each node works on finding a difficult proof-of-work for its block.\n",
    "> 4. When a node finds a proof-of-work, it broadcasts the block to all nodes.\n",
    "> 5. Nodes accept the block only if all transactions in it are valid and not already spent.\n",
    "> 6. Nodes express their acceptance of the block by working on creating the next block in the chain, using the hash of the accepted block as the previous hash.\n",
    "\n",
    "运行网络的步骤如下：\n",
    "\n",
    "> 1. 所有新的交易向所有节点广播；\n",
    "> 2. 每个节点将新交易打包到一个区块；\n",
    "> 3. 每个节点开始为此区块找一个具备难度的工作证明；\n",
    "> 4. 当某个区块找到其工作证明，它就要将此区块广播给所有节点；\n",
    "> 5. 众多其他节点当且只当以下条件满足才会接受这个区块：其中所有的交易都是有效的，且未被双重支付；\n",
    "> 6. 众多节点向网络表示自己接受这个区块的方法是，在创建下一个区块的时候，把被接受区块的哈希当作新区块之前的哈希。\n",
    "\n",
    "Nodes always consider the longest chain to be the correct one and will keep working on extending it. If two nodes broadcast different versions of the next block simultaneously, some nodes may receive one or the other first. In that case, they work on the first one they received, but save the other branch in case it becomes longer. The tie will be broken when the next proof-of-work is found and one branch becomes longer; the nodes that were working on the other branch will then switch to the longer one.\n",
    "\n",
    "节点始终认为最长链是正确的那个，且会不断向其添加新数据。若是有两个节点同时向网络广播了两个不同版本的「下一个区块」，有些节点会先接收到其中一个，而另外一些节点会先接收到另外一个。这种情况下，节点将在它们先接收到的那个区块上继续工作，但也会把另外一个分支保存下来，以防后者成为最长链。当下一个工作证明被找到，而其中的一个分支成为更长的链之后，这个暂时的分歧会被打消，在另外一个分支上工作的节点们会切换到更长的链上。\n",
    "\n",
    "New transaction broadcasts do not necessarily need to reach all nodes. As long as they reach many nodes, they will get into a block before long. Block broadcasts are also tolerant of dropped messages. If a node does not receive a block, it will request it when it receives the next block and realizes it missed one.\n",
    "\n",
    "新的交易不见得一定要广播到达所有的节点。只要到达足够多的节点，那么没多久这些交易就会被打包进一个区块。区块广播也容许一些消息被丢弃。如果一个节点并未接收到某个区块，那么这个节点会在它接收到下一个区块的时候意识到自己错失了之前的区块，因此会发出补充那个遗失区块的请求。"
   ]
  },
  {
   "cell_type": "code",
   "execution_count": null,
   "metadata": {},
   "outputs": [],
   "source": []
  }
 ],
 "metadata": {
  "kernelspec": {
   "display_name": "Python 3",
   "language": "python",
   "name": "python3"
  },
  "language_info": {
   "codemirror_mode": {
    "name": "ipython",
    "version": 3
   },
   "file_extension": ".py",
   "mimetype": "text/x-python",
   "name": "python",
   "nbconvert_exporter": "python",
   "pygments_lexer": "ipython3",
   "version": "3.7.4"
  }
 },
 "nbformat": 4,
 "nbformat_minor": 2
}
