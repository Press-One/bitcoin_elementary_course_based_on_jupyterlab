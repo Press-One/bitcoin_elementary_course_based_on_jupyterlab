{
 "cells": [
  {
   "cell_type": "markdown",
   "metadata": {},
   "source": [
    "**原文：**\n",
    "\n",
    "https://leeduckgo.github.io/bitcoin_elementary_course_based_on_jupyterlab/#slide=1\n",
    "\n",
    "**翻译：**\n",
    "\n",
    "https://leeduckgo.github.io/bitcoin_elementary_course_based_on_jupyterlab/#slide=2\n",
    "    \n",
    "**单词注释：**\n",
    "\n",
    "https://leeduckgo.github.io/bitcoin_elementary_course_based_on_jupyterlab/#slide=3"
   ]
  }
 ],
 "metadata": {
  "kernelspec": {
   "display_name": "Python 3",
   "language": "python",
   "name": "python3"
  },
  "language_info": {
   "codemirror_mode": {
    "name": "ipython",
    "version": 3
   },
   "file_extension": ".py",
   "mimetype": "text/x-python",
   "name": "python",
   "nbconvert_exporter": "python",
   "pygments_lexer": "ipython3",
   "version": "3.7.4"
  }
 },
 "nbformat": 4,
 "nbformat_minor": 2
}
