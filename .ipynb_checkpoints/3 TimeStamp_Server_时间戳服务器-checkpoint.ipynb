{
 "cells": [
  {
   "cell_type": "markdown",
   "metadata": {},
   "source": [
    "# 3 时间戳服务器 (Timestamp Server) —— 区块的链"
   ]
  },
  {
   "cell_type": "markdown",
   "metadata": {},
   "source": [
    "## 原文与翻译\n",
    "\n",
    "The solution we propose begins with a timestamp server. A timestamp server works by taking a hash of a block of items to be timestamped and widely publishing the hash, such as in a newspaper or Usenet post[2-5]. The timestamp proves that the data must have existed at the time, obviously, in order to get into the hash. Each timestamp includes the previous timestamp in its hash, forming a chain, with each additional timestamp reinforcing the ones before it.\n",
    "\n",
    "本解决方案起步于一种时间戳服务器。时间戳服务器是这样工作的：为一组（block）记录（items）的哈希打上时间戳，而后把哈希广播出去，就好像一份报纸所做的那样，或者像是在新闻组（Usenet）里的一个帖子那样[2-5]。显然，时间戳能够证明那数据在那个时间点之前已然存在，否则那哈希也就无法生成。每个时间戳在其哈希中包含着之前的时间戳，因此构成了一个链，此条链上的每一个新的时间戳被添加在之前的时间戳之后。\n",
    "\n",
    "**[2]:** Design of a secure timestamping service with minimal trust requirements Henri Massias, Xavier Serret-Avila, Jean-Jacques Quisquater 20th Symposium on Information Theory in the Benelux (1999-05) http://citeseerx.ist.psu.edu/viewdoc/summary?doi=10.1.1.13.6228\n",
    "\n",
    "**[3]:** How to time-stamp a digital document Stuart Haber, W.Scott Stornetta Journal of Cryptology (1991) https://doi.org/cwwxd4 DOI: 10.1007/bf00196791 \n",
    "\n",
    "**[4]:** Improving the Efficiency and Reliability of Digital Time-Stamping Dave Bayer, Stuart Haber, W. Scott Stornetta Sequences II (1993) https://doi.org/bn4rpx DOI: 10.1007/978-1-4613-9323-8_24 \n",
    "\n",
    "**[5]:** Secure names for bit-strings Stuart Haber, W. Scott Stornetta Proceedings of the 4th ACM conference on Computer and communications security - CCS ’97(1997) https://doi.org/dtnrf6 "
   ]
  },
  {
   "cell_type": "markdown",
   "metadata": {},
   "source": [
    "## 重要概念解析\n"
   ]
  },
  {
   "cell_type": "markdown",
   "metadata": {},
   "source": [
    "- 时间戳\n",
    "\n",
    "    计算机对某一时刻的记录，通常用以区分事件（例如：广播）的先后顺序。\n",
    "    "
   ]
  },
  {
   "cell_type": "code",
   "execution_count": 5,
   "metadata": {},
   "outputs": [
    {
     "name": "stdout",
     "output_type": "stream",
     "text": [
      "1559912492\n"
     ]
    }
   ],
   "source": [
    "# 生成时间戳\n",
    "import time\n",
    "ts = int(time.time())\n",
    "print(ts) # 10 位时间戳"
   ]
  },
  {
   "cell_type": "markdown",
   "metadata": {},
   "source": [
    "- 时间戳服务器\n",
    "\n",
    "    本文中的「时间戳服务器」，实际上就是「出块节点（Block Producter）」，它安装在每一个「矿工」的「矿机」上。"
   ]
  },
  {
   "cell_type": "markdown",
   "metadata": {},
   "source": [
    "## 50 行代码构建区块链\n",
    "\n",
    "只要 50 行 Python 代码，我们就能构建出最小必要模型，实践本节所说的「区块（Block）」之「链（Chain）」。\n",
    "\n",
    "本段代码出处：\n",
    "\n",
    "https://blog.csdn.net/simple_the_best/article/details/75448617"
   ]
  },
  {
   "cell_type": "code",
   "execution_count": 8,
   "metadata": {},
   "outputs": [],
   "source": [
    "import hashlib as hasher\n",
    "\n",
    "# 定义区块类\n",
    "class Block:\n",
    "    def __init__(self, index, timestamp, data, previous_hash):\n",
    "        self.index = index\n",
    "        self.timestamp = timestamp\n",
    "        self.data = data\n",
    "        self.previous_hash = previous_hash\n",
    "        self.hash = self.hash_block()\n",
    "\n",
    "    def hash_block(self):\n",
    "        sha = hasher.sha256()\n",
    "        sha.update(\n",
    "            bytes(\n",
    "                str(self.index) + str(self.timestamp) + str(self.data) + str(\n",
    "                    self.previous_hash), 'utf-8'))\n",
    "        return sha.hexdigest()"
   ]
  },
  {
   "cell_type": "markdown",
   "metadata": {},
   "source": [
    "比特币[真实的区块结构](https://en.bitcoin.it/wiki/Block_hashing_algorithm)：\n",
    "\n",
    "![真实的区块结构](pics/block_struct.png)\n",
    "\n",
    "上述模型的代码，对字段进行了简化与调整。"
   ]
  },
  {
   "cell_type": "code",
   "execution_count": 16,
   "metadata": {},
   "outputs": [
    {
     "name": "stdout",
     "output_type": "stream",
     "text": [
      "genesis_block height: 0\n",
      "genesis_block hash: 8aeedda1f2f41166bc900b34dea51d9baa3622f067ca67d369f3b7c62c034271\n"
     ]
    }
   ],
   "source": [
    "import datetime as date\n",
    "# 「创世区块」创建函数\n",
    "def create_genesis_block():\n",
    "    #  Manually construct a block with index 0 and arbitrary previous hash\n",
    "    return Block(0, date.datetime.now(), \"Genesis Block\", \"0\")\n",
    "\n",
    "# 生成创世区块\n",
    "genesis_block = create_genesis_block()\n",
    "\n",
    "print(\"genesis_block height: %d\" % genesis_block.index)\n",
    "print(\"genesis_block hash: %s\" % genesis_block.hash)\n"
   ]
  },
  {
   "cell_type": "markdown",
   "metadata": {},
   "source": [
    "- [创世区块](https://en.bitcoin.it/wiki/Genesis_block)\n",
    "\n",
    "创世区块是一条区块链的第一个区块，现在的比特币版本将其标记为第0块（Block Zero）。\n",
    "\n",
    "**【彩蛋】** 中本聪在比特币的创世区块中留下了一句话：\n",
    "\n",
    "The Times 03/Jan/2009 Chancellor on brink of second bailout for banks.\n",
    "\n",
    "是 2009 年 1 月 3 日那天泰晤士报的首页新闻标题。\n",
    "\n",
    "有人认为中本聪用这个标题暗示了他创建比特币系统的目的。\n",
    "\n"
   ]
  },
  {
   "cell_type": "code",
   "execution_count": null,
   "metadata": {},
   "outputs": [],
   "source": []
  }
 ],
 "metadata": {
  "kernelspec": {
   "display_name": "Python 3",
   "language": "python",
   "name": "python3"
  },
  "language_info": {
   "codemirror_mode": {
    "name": "ipython",
    "version": 3
   },
   "file_extension": ".py",
   "mimetype": "text/x-python",
   "name": "python",
   "nbconvert_exporter": "python",
   "pygments_lexer": "ipython3",
   "version": "3.7.1"
  }
 },
 "nbformat": 4,
 "nbformat_minor": 2
}
