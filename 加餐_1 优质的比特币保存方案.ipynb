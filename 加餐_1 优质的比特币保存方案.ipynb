{
 "cells": [
  {
   "cell_type": "markdown",
   "metadata": {},
   "source": [
    "# 加餐1. 优质的比特币保存方案"
   ]
  },
  {
   "cell_type": "markdown",
   "metadata": {},
   "source": [
    "当你迈入区块链世界，首先要做的一件事情，就是保护好你的数字资产。\n",
    "\n",
    "**而且 —— 随着比特币价格的上升，与你持币时间的增长，这件事情变得「越来越重要」。** \n",
    "怎么理解呢？我们可以简单地计算一下 —— 假设你 2009 年时有 10 个比特币，你的「比特币保存方案」会让你每年有 1% 的可能丢币。那么在 2019 年时， 你有 10% 的可能丢掉了 10W 美金！\n",
    "\n",
    "所以，我们需要一种优质的比特币保存方案，以确保我们在时间的长河里，比特币丢失的概率尽可能的小。"
   ]
  }
 ],
 "metadata": {
  "kernelspec": {
   "display_name": "Python 3",
   "language": "python",
   "name": "python3"
  },
  "language_info": {
   "codemirror_mode": {
    "name": "ipython",
    "version": 3
   },
   "file_extension": ".py",
   "mimetype": "text/x-python",
   "name": "python",
   "nbconvert_exporter": "python",
   "pygments_lexer": "ipython3",
   "version": "3.7.3"
  }
 },
 "nbformat": 4,
 "nbformat_minor": 2
}
