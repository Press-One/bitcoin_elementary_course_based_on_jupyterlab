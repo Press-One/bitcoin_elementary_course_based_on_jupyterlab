{
 "cells": [
  {
   "cell_type": "markdown",
   "metadata": {},
   "source": [
    "# 比特币相关网站"
   ]
  },
  {
   "cell_type": "markdown",
   "metadata": {},
   "source": [
    "- **币**\n",
    "    - CoinmarketCap —— 查看数字货币的排名与基本信息："
   ]
  },
  {
   "cell_type": "markdown",
   "metadata": {},
   "source": [
    "    https://coinmarketcap.com/"
   ]
  },
  {
   "cell_type": "markdown",
   "metadata": {},
   "source": [
    "    - 支持比特币等九种数字货币的浏览器："
   ]
  },
  {
   "cell_type": "markdown",
   "metadata": {},
   "source": [
    "    https://blockchair.com/"
   ]
  },
  {
   "cell_type": "markdown",
   "metadata": {},
   "source": [
    "    - 比特币富豪榜及分布现状："
   ]
  },
  {
   "cell_type": "markdown",
   "metadata": {},
   "source": [
    "    https://bitinfocharts.com/top-100-richest-bitcoin-addresses.html"
   ]
  },
  {
   "cell_type": "markdown",
   "metadata": {},
   "source": [
    "    - 比特币 24 小时交易数据："
   ]
  },
  {
   "cell_type": "markdown",
   "metadata": {},
   "source": [
    "    https://bitinfocharts.com/zh/bitcoin/explorer/"
   ]
  },
  {
   "cell_type": "markdown",
   "metadata": {},
   "source": [
    "    - 比特币活跃地址统计："
   ]
  },
  {
   "cell_type": "markdown",
   "metadata": {},
   "source": [
    "    https://bitinfocharts.com/comparison/activeaddresses-btc.html"
   ]
  },
  {
   "cell_type": "markdown",
   "metadata": {},
   "source": [
    "    - 比特币沉睡地址统计："
   ]
  },
  {
   "cell_type": "markdown",
   "metadata": {},
   "source": [
    "    https://bitinfocharts.com/top-100-dormant_5y-bitcoin-addresses.html"
   ]
  },
  {
   "cell_type": "markdown",
   "metadata": {},
   "source": [
    "- **链**\n",
    "    - 比特币地址生成："
   ]
  },
  {
   "cell_type": "markdown",
   "metadata": {},
   "source": [
    "       https://www.bitaddress.org/"
   ]
  },
  {
   "cell_type": "markdown",
   "metadata": {},
   "source": [
    "    - 多版本源码："
   ]
  },
  {
   "cell_type": "markdown",
   "metadata": {},
   "source": [
    "       - 比特币 C++ 源码："
   ]
  },
  {
   "cell_type": "markdown",
   "metadata": {},
   "source": [
    "       https://github.com/bitcoin/bitcoin"
   ]
  },
  {
   "cell_type": "markdown",
   "metadata": {},
   "source": [
    "       - 比特币 Python 源码"
   ]
  },
  {
   "cell_type": "markdown",
   "metadata": {},
   "source": [
    "       https://github.com/petertodd/python-bitcoinlib"
   ]
  },
  {
   "cell_type": "markdown",
   "metadata": {},
   "source": [
    "       - 比特币 Golang 源码"
   ]
  },
  {
   "cell_type": "markdown",
   "metadata": {},
   "source": [
    "       https://github.com/btcsuite/btcd"
   ]
  },
  {
   "cell_type": "markdown",
   "metadata": {},
   "source": [
    "       - 比特币 Rust 源码"
   ]
  },
  {
   "cell_type": "markdown",
   "metadata": {},
   "source": [
    "       https://github.com/rust-bitcoin/rust-bitcoin"
   ]
  },
  {
   "cell_type": "markdown",
   "metadata": {},
   "source": [
    "   - 比特币改进建议："
   ]
  },
  {
   "cell_type": "markdown",
   "metadata": {},
   "source": [
    "   https://github.com/bitcoin/bips"
   ]
  },
  {
   "cell_type": "markdown",
   "metadata": {},
   "source": [
    "    - 比特核心（Bitcoin Core）—— 比特币开发团队："
   ]
  },
  {
   "cell_type": "markdown",
   "metadata": {},
   "source": [
    "       - 官网："
   ]
  },
  {
   "cell_type": "markdown",
   "metadata": {},
   "source": [
    "       https://bitcoin.org/en/bitcoin-core"
   ]
  },
  {
   "cell_type": "markdown",
   "metadata": {},
   "source": [
    "       - 论坛："
   ]
  },
  {
   "cell_type": "markdown",
   "metadata": {},
   "source": [
    "       https://bitcointalk.org"
   ]
  },
  {
   "cell_type": "markdown",
   "metadata": {},
   "source": [
    "    - 比特币闪电网络（Lightning Network）开发团队："
   ]
  },
  {
   "cell_type": "markdown",
   "metadata": {},
   "source": [
    "    https://blockstream.com/"
   ]
  },
  {
   "cell_type": "markdown",
   "metadata": {},
   "source": [
    "- **矿**\n",
    "    - 比特币减半数据："
   ]
  },
  {
   "cell_type": "markdown",
   "metadata": {},
   "source": [
    "    https://www.bitcoinblockhalf.com/"
   ]
  },
  {
   "cell_type": "markdown",
   "metadata": {},
   "source": [
    "    - 矿池份额等数据："
   ]
  },
  {
   "cell_type": "markdown",
   "metadata": {},
   "source": [
    "    https://explorer.viabtc.com/btc/pool?tabs=0"
   ]
  },
  {
   "cell_type": "markdown",
   "metadata": {},
   "source": [
    "    - 挖矿计算器："
   ]
  },
  {
   "cell_type": "markdown",
   "metadata": {},
   "source": [
    "    https://btc.com/tools/mining-calculator"
   ]
  }
 ],
 "metadata": {
  "kernelspec": {
   "display_name": "Python 3",
   "language": "python",
   "name": "python3"
  },
  "language_info": {
   "codemirror_mode": {
    "name": "ipython",
    "version": 3
   },
   "file_extension": ".py",
   "mimetype": "text/x-python",
   "name": "python",
   "nbconvert_exporter": "python",
   "pygments_lexer": "ipython3",
   "version": "3.7.4"
  }
 },
 "nbformat": 4,
 "nbformat_minor": 2
}