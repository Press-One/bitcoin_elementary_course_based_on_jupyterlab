{
 "cells": [
  {
   "cell_type": "markdown",
   "metadata": {},
   "source": [
    "# 0 序言"
   ]
  },
  {
   "cell_type": "markdown",
   "metadata": {},
   "source": [
    "## 为什么要以比特币为框架入门区块链？\n",
    "\n",
    "- 共识系统是区块链的基础\n",
    "- 所有的共识系统，都是解决同一个问题 —— **如何长期稳定的运行一个历史数据不可篡改的数据库**\n",
    "- 比特币是迄今为止为止最成功的区块链项目\n",
    "- 比特币的核心足够简洁，符合「奥卡姆剃刀原则」\n",
    "- 比特币的文档 / Wiki 很丰富\n",
    "- 比特币有 [Python](https://github.com/petertodd/python-bitcoinlib) 版本的实现，而 Python 版本的源码比较好读"
   ]
  },
  {
   "cell_type": "markdown",
   "metadata": {},
   "source": [
    "## 本书涉及的内容\n",
    "\n",
    "数学、密码学、信息学、分布式系统、Python 编程等。"
   ]
  },
  {
   "cell_type": "markdown",
   "metadata": {},
   "source": [
    "## 本书特性\n",
    "\n",
    "- **交互性：** 本书用 Ipynb 作为载体，包含大量交互式内容。\n",
    "- **多层次性：** 本书面向多层次的读者，不同层次的读者，选择性的进行阅读即可。例如，初学者可仅阅读不含标记的内容；区块链从业者可阅读 Level3 以下的内容。\n",
    "- **可扩展性：** 每一个部分都可以不断扩展，最终形成一棵以比特币原理为根部的「区块链教程之树🌲」。"
   ]
  },
  {
   "cell_type": "markdown",
   "metadata": {},
   "source": [
    "## 参考资料\n",
    "\n",
    "- 英文版比特币白皮书：https://bitcoin.org/bitcoin.pdf\n",
    "- 至今为止最好的翻译 by 李笑来：https://github.com/xiaolai/bitcoin-whitepaper-chinese-translation/blob/master/Bitcoin-Whitepaper-EN-CN.md\n",
    "- ECDSA 密码学库: https://github.com/warner/python-ecdsa\n",
    "- 精通比特币：http://v1.8btc.com/books/261/master_bitcoin/_book/"
   ]
  }
 ],
 "metadata": {
  "kernelspec": {
   "display_name": "Python 3",
   "language": "python",
   "name": "python3"
  },
  "language_info": {
   "codemirror_mode": {
    "name": "ipython",
    "version": 3
   },
   "file_extension": ".py",
   "mimetype": "text/x-python",
   "name": "python",
   "nbconvert_exporter": "python",
   "pygments_lexer": "ipython3",
   "version": "3.7.4"
  }
 },
 "nbformat": 4,
 "nbformat_minor": 2
}
