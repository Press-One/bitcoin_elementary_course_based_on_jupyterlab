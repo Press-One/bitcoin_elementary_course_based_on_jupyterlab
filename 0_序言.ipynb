{
 "cells": [
  {
   "cell_type": "markdown",
   "metadata": {},
   "source": [
    "# 基于 JupyterLab 的比特币极速入门指南\n",
    "** —— 进入区块链世界的绝佳入口**"
   ]
  },
  {
   "cell_type": "markdown",
   "metadata": {},
   "source": [
    "---\n",
    "**Github 仓库地址：**"
   ]
  },
  {
   "cell_type": "markdown",
   "metadata": {},
   "source": [
    "https://github.com/leeduckgo/bitcoin_elementary_course_based_on_jupyterlab"
   ]
  },
  {
   "cell_type": "markdown",
   "metadata": {},
   "source": [
    "**项目主页：**"
   ]
  },
  {
   "cell_type": "markdown",
   "metadata": {},
   "source": [
    "https://bitcoin.doge.university"
   ]
  },
  {
   "cell_type": "markdown",
   "metadata": {},
   "source": [
    "---"
   ]
  },
  {
   "cell_type": "markdown",
   "metadata": {},
   "source": [
    "## 0 序言"
   ]
  },
  {
   "cell_type": "markdown",
   "metadata": {},
   "source": [
    "### 本书适合人群"
   ]
  },
  {
   "cell_type": "markdown",
   "metadata": {},
   "source": [
    "- **编程入门者**"
   ]
  },
  {
   "cell_type": "markdown",
   "metadata": {},
   "source": [
    "  可能你已经入门了 Python，可能你刚刚学完 [《自学是门手艺》](https://github.com/selfteaching/the-craft-of-selfteaching)。那么把这本教程当成你的第一个「进阶项目」吧！你能体会到编程作为「思考辅助工具」的巨大威力。"
   ]
  },
  {
   "cell_type": "markdown",
   "metadata": {},
   "source": [
    "- **想要了解区块链的开发者**"
   ]
  },
  {
   "cell_type": "markdown",
   "metadata": {},
   "source": [
    "  你是一名开发者，最近听说了区块链。那么来看这本教程吧！你将体验「闪电入门」的快感。"
   ]
  },
  {
   "cell_type": "markdown",
   "metadata": {
    "questions": [
     1984
    ],
    "notes": "习题内嵌新增，待复核"
   },
   "source": [
    "- [判断题 ★ 先有区块链，后有比特币。这个说法正确吗？](https://xue.cn/hub/app/exercise/1984)"
   ]
  },
  {
   "cell_type": "markdown",
   "metadata": {},
   "source": [
    "### 一段话说明比特币干了什么"
   ]
  },
  {
   "cell_type": "markdown",
   "metadata": {},
   "source": [
    "比特币将传统的「分布式系统」往前推进一步，实现了「节点可自由进出」的分布式系统，系统的目的是维护一个「历史数据不可篡改的数据库」。\n",
    "然后，这个不可篡改的数据库用在存储账簿上，于是就成为了一家有「存储」和「转账」业务的「世界银行」。"
   ]
  },
  {
   "cell_type": "markdown",
   "metadata": {},
   "source": [
    "### 为什么要以比特币为框架入门区块链？"
   ]
  },
  {
   "cell_type": "markdown",
   "metadata": {},
   "source": [
    "- 比特币是迄今为止为止最成功的区块链项目\n",
    "- 比特币的核心足够简洁，符合「奥卡姆剃刀原则」\n",
    "- 比特币的文档 / Wiki 很丰富\n",
    "- 比特币有 [Python](https://github.com/petertodd/python-bitcoinlib) 版本的实现，而 Python 版本的源码比较好读"
   ]
  },
  {
   "cell_type": "markdown",
   "metadata": {
    "questions": [
     1982
    ],
    "notes": "习题内嵌新增，待复核"
   },
   "source": [
    "- [判断题 ★ 比特币算法是完全开源的，谁都可以下载到源码，修改些参数，重新编译下，就能创造一种新的数字货币。这个说法正确吗？](https://xue.cn/hub/app/exercise/1982)"
   ]
  },
  {
   "cell_type": "markdown",
   "metadata": {},
   "source": [
    "### 本书涉及的内容"
   ]
  },
  {
   "cell_type": "markdown",
   "metadata": {},
   "source": [
    "数学、密码学、信息学、分布式系统、Python 编程等。"
   ]
  },
  {
   "cell_type": "markdown",
   "metadata": {},
   "source": [
    "### 本书特性"
   ]
  },
  {
   "cell_type": "markdown",
   "metadata": {},
   "source": [
    "- **交互性：** 本书用 Ipynb 作为载体，包含大量交互式内容。\n",
    "- **多层次性：** 本书面向多层次的读者。可以作为非计算机工作者了解比特币的入门读物，也可以作为进入区块链行业的计算机工作者的 101 教程。\n",
    "- **可扩展性：** 每一个部分都可以不断扩展，最终形成一棵以比特币原理为根部的「区块链教程之树🌲」。"
   ]
  },
  {
   "cell_type": "markdown",
   "metadata": {},
   "source": [
    "### 参考资料"
   ]
  },
  {
   "cell_type": "markdown",
   "metadata": {},
   "source": [
    "- 英文版比特币白皮书：https://bitcoin.org/bitcoin.pdf\n",
    "- [至今为止最好的翻译 by 李笑来:https://xue.cn/hub/app/books/33](https://xue.cn/hub/app/books/33)\n",
    "- ECDSA 密码学库: https://github.com/warner/python-ecdsa\n",
    "- 精通比特币：http://v1.8btc.com/books/261/master_bitcoin/_book\n",
    "- Draveness 博客：https://draveness.me/tag/%E5%8C%BA%E5%9D%97%E9%93%BE"
   ]
  },
  {
   "cell_type": "markdown",
   "metadata": {},
   "source": [
    "### 声明"
   ]
  },
  {
   "cell_type": "markdown",
   "metadata": {},
   "source": [
    "本书中出现引用标识处，均为引用。"
   ]
  },
  {
   "cell_type": "markdown",
   "metadata": {},
   "source": [
    "例如："
   ]
  },
  {
   "cell_type": "markdown",
   "metadata": {},
   "source": [
    "> Elliptic Curve Digital Signature Algorithm or ECDSA is a cryptographic algorithm used by Bitcoin to ensure that funds can only be spent by their rightful owners."
   ]
  },
  {
   "cell_type": "markdown",
   "metadata": {},
   "source": [
    "其中，**「原文与翻译」** 部分以英文版白皮书和 [笑来老师翻译版本](https://xue.cn/hub/app/books/33) 为基础，略作修改。"
   ]
  },
  {
   "cell_type": "markdown",
   "metadata": {},
   "source": [
    "### 作者联系方式（加我进学习群）\n",
    "![qr_code](pics/qr_code.jpg)\n",
    "### 作者公众号\n",
    "![大狗哔哔](pics/ 大狗哔哔 .jpeg)"
   ]
  }
 ],
 "metadata": {
  "file_extension": ".py",
  "kernelspec": {
   "display_name": "Python 3",
   "language": "python",
   "name": "python3"
  },
  "language_info": {
   "codemirror_mode": {
    "name": "ipython",
    "version": 3
   },
   "file_extension": ".py",
   "mimetype": "text/x-python",
   "name": "python",
   "nbconvert_exporter": "python",
   "pygments_lexer": "ipython3",
   "version": "3.7.4"
  },
  "mimetype": "text/x-python",
  "name": "python",
  "npconvert_exporter": "python",
  "pygments_lexer": "ipython3",
  "version": 3
 },
 "nbformat": 4,
 "nbformat_minor": 4
}